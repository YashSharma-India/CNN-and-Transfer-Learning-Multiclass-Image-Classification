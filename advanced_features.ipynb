{
 "cells": [
  {
   "cell_type": "markdown",
   "metadata": {},
   "source": [
    "\n",
    "## **Description: Improve designed deep network by adding advanced features Interpret notation**"
   ]
  },
  {
   "cell_type": "markdown",
   "metadata": {},
   "source": [
    "### Algorithm:\n",
    "\n",
    "**--> Step 1:** Open preprocessed dataset  \n",
    "**--> Step 2:** Convert classes vectors to binary matrices  \n",
    "**--> Step 3:** **Replace max pooling by advanced features**  \n",
    "**--> Step 4:** Visualize built CNN models  \n",
    "**--> Step 5:** Set up learning rate & epochs  \n",
    "**--> Step 6:** Train built CNN models  \n",
    "**--> Step 7:** Show and plot accuracies  \n",
    "**--> Step 8:** Make a conclusion  \n",
    "\n",
    "\n",
    "**Result:**  \n",
    "- Chosen architecture for every preprocessed dataset  \n"
   ]
  },
  {
   "cell_type": "markdown",
   "metadata": {},
   "source": [
    "## Importing libraries"
   ]
  },
  {
   "cell_type": "code",
   "execution_count": 1,
   "metadata": {},
   "outputs": [],
   "source": [
    "# Importing needed libraries\n",
    "import matplotlib.pyplot as plt\n",
    "import numpy as np\n",
    "import h5py\n",
    "\n",
    "\n",
    "from tensorflow.keras.utils import to_categorical, plot_model\n",
    "from tensorflow.keras.models import Sequential\n",
    "from tensorflow.keras.layers import Conv2D, MaxPool2D, Flatten, Dense\n",
    "from tensorflow.keras.callbacks import LearningRateScheduler\n"
   ]
  },
  {
   "cell_type": "markdown",
   "metadata": {},
   "source": [
    "## Setting up full path to preprocessed datasets"
   ]
  },
  {
   "cell_type": "code",
   "execution_count": 2,
   "metadata": {},
   "outputs": [],
   "source": [
    "# Full or absolute path to preprocessed datasets\n",
    "full_path_to_code = \\\n",
    "    'C:/Users/yashs/PycharmProjects/InternshipCNN/TCS'\n"
   ]
  },
  {
   "cell_type": "markdown",
   "metadata": {},
   "source": [
    "### RGB custom dataset (255.0 ==> mean ==> std)\n",
    "\n",
    "## Step 1: Opening preprocessed dataset"
   ]
  },
  {
   "cell_type": "code",
   "execution_count": 3,
   "metadata": {},
   "outputs": [
    {
     "name": "stdout",
     "output_type": "stream",
     "text": [
      "['x_test', 'x_train', 'x_validation', 'y_test', 'y_train', 'y_validation']\n"
     ]
    }
   ],
   "source": [
    "# Opening saved custom dataset from HDF5 binary file\n",
    "# Initiating File object\n",
    "# Opening file in reading mode by 'r'\n",
    "with h5py.File(full_path_to_code + '/' + 'custom' + '/' +\n",
    "               'dataset_custom_rgb_255_mean_std.hdf5', 'r') as f:\n",
    "    \n",
    "    # Showing all keys in the HDF5 binary file\n",
    "    print(list(f.keys()))\n",
    "    \n",
    "    # Extracting saved arrays for training by appropriate keys\n",
    "    # Saving them into new variables\n",
    "    x_train = f['x_train']  # HDF5 dataset\n",
    "    y_train = f['y_train']  # HDF5 dataset\n",
    "    # Converting them into Numpy arrays\n",
    "    x_train = np.array(x_train)  # Numpy arrays\n",
    "    y_train = np.array(y_train)  # Numpy arrays\n",
    "    \n",
    "    \n",
    "    # Extracting saved arrays for validation by appropriate keys\n",
    "    # Saving them into new variables\n",
    "    x_validation = f['x_validation']  # HDF5 dataset\n",
    "    y_validation = f['y_validation']  # HDF5 dataset\n",
    "    # Converting them into Numpy arrays\n",
    "    x_validation = np.array(x_validation)  # Numpy arrays\n",
    "    y_validation = np.array(y_validation)  # Numpy arrays\n",
    "    \n",
    "    \n",
    "    # Extracting saved arrays for testing by appropriate keys\n",
    "    # Saving them into new variables\n",
    "    x_test = f['x_test']  # HDF5 dataset\n",
    "    y_test = f['y_test']  # HDF5 dataset\n",
    "    # Converting them into Numpy arrays\n",
    "    x_test = np.array(x_test)  # Numpy arrays\n",
    "    y_test = np.array(y_test)  # Numpy arrays\n"
   ]
  },
  {
   "cell_type": "code",
   "execution_count": 4,
   "metadata": {
    "scrolled": true
   },
   "outputs": [
    {
     "name": "stdout",
     "output_type": "stream",
     "text": [
      "<class 'numpy.ndarray'>\n",
      "<class 'numpy.ndarray'>\n",
      "<class 'numpy.ndarray'>\n",
      "<class 'numpy.ndarray'>\n",
      "<class 'numpy.ndarray'>\n",
      "<class 'numpy.ndarray'>\n",
      "\n",
      "(3240, 64, 64, 3)\n",
      "(3240,)\n",
      "(1110, 64, 64, 3)\n",
      "(1110,)\n",
      "(278, 64, 64, 3)\n",
      "(278,)\n"
     ]
    }
   ],
   "source": [
    "# Showing types of loaded arrays\n",
    "print(type(x_train))\n",
    "print(type(y_train))\n",
    "print(type(x_validation))\n",
    "print(type(y_validation))\n",
    "print(type(x_test))\n",
    "print(type(y_test))\n",
    "print()\n",
    "\n",
    "\n",
    "# Showing shapes of loaded arrays\n",
    "print(x_train.shape)\n",
    "print(y_train.shape)\n",
    "print(x_validation.shape)\n",
    "print(y_validation.shape)\n",
    "print(x_test.shape)\n",
    "print(y_test.shape)\n"
   ]
  },
  {
   "cell_type": "markdown",
   "metadata": {},
   "source": [
    "### RGB custom dataset (255.0 ==> mean ==> std)\n",
    "\n",
    "## Step 2: Converting classes vectors to classes matrices"
   ]
  },
  {
   "cell_type": "code",
   "execution_count": 5,
   "metadata": {},
   "outputs": [
    {
     "name": "stdout",
     "output_type": "stream",
     "text": [
      "Class index from vector: 0\n",
      "\n",
      "(3240, 5)\n",
      "(1110, 5)\n",
      "\n",
      "Class index from matrix: [1. 0. 0. 0. 0.]\n"
     ]
    }
   ],
   "source": [
    "# Showing class index from the vector\n",
    "print('Class index from vector:', y_train[4])\n",
    "print()\n",
    "\n",
    "# Preparing classes to be passed into the model\n",
    "# Transforming them from vectors to binary matrices\n",
    "# It is needed to set relationship between classes to be understood by the algorithm\n",
    "# Such format is commonly used in training and predicting\n",
    "y_train = to_categorical(y_train, num_classes = 5)\n",
    "y_validation = to_categorical(y_validation, num_classes = 5)\n",
    "\n",
    "\n",
    "# Showing shapes of converted vectors into matrices\n",
    "print(y_train.shape)\n",
    "print(y_validation.shape)\n",
    "print()\n",
    "\n",
    "\n",
    "# Showing class index from the matrix\n",
    "print('Class index from matrix:', y_train[4])\n"
   ]
  },
  {
   "cell_type": "markdown",
   "metadata": {},
   "source": [
    "### RGB custom dataset (255.0 ==> mean ==> std)\n",
    "\n",
    "## Step 3: Replacing max pooling by advanced features"
   ]
  },
  {
   "cell_type": "code",
   "execution_count": 6,
   "metadata": {
    "slideshow": {
     "slide_type": "-"
    }
   },
   "outputs": [
    {
     "ename": "NameError",
     "evalue": "name 'Dropout' is not defined",
     "output_type": "error",
     "traceback": [
      "\u001b[1;31m---------------------------------------------------------------------------\u001b[0m",
      "\u001b[1;31mNameError\u001b[0m                                 Traceback (most recent call last)",
      "\u001b[1;32m~\\AppData\\Local\\Temp/ipykernel_15556/117418383.py\u001b[0m in \u001b[0;36m<module>\u001b[1;34m\u001b[0m\n\u001b[0;32m     18\u001b[0m \u001b[0mtemp\u001b[0m\u001b[1;33m.\u001b[0m\u001b[0madd\u001b[0m\u001b[1;33m(\u001b[0m\u001b[0mConv2D\u001b[0m\u001b[1;33m(\u001b[0m\u001b[1;36m64\u001b[0m\u001b[1;33m,\u001b[0m \u001b[0mkernel_size\u001b[0m\u001b[1;33m=\u001b[0m\u001b[1;36m5\u001b[0m\u001b[1;33m,\u001b[0m \u001b[0mpadding\u001b[0m\u001b[1;33m=\u001b[0m\u001b[1;34m'same'\u001b[0m\u001b[1;33m,\u001b[0m \u001b[0mactivation\u001b[0m\u001b[1;33m=\u001b[0m\u001b[1;34m'relu'\u001b[0m\u001b[1;33m,\u001b[0m \u001b[0minput_shape\u001b[0m\u001b[1;33m=\u001b[0m\u001b[1;33m(\u001b[0m\u001b[1;36m64\u001b[0m\u001b[1;33m,\u001b[0m \u001b[1;36m64\u001b[0m\u001b[1;33m,\u001b[0m \u001b[1;36m3\u001b[0m\u001b[1;33m)\u001b[0m\u001b[1;33m)\u001b[0m\u001b[1;33m)\u001b[0m\u001b[1;33m\u001b[0m\u001b[1;33m\u001b[0m\u001b[0m\n\u001b[0;32m     19\u001b[0m \u001b[0mtemp\u001b[0m\u001b[1;33m.\u001b[0m\u001b[0madd\u001b[0m\u001b[1;33m(\u001b[0m\u001b[0mMaxPool2D\u001b[0m\u001b[1;33m(\u001b[0m\u001b[1;33m)\u001b[0m\u001b[1;33m)\u001b[0m\u001b[1;33m\u001b[0m\u001b[1;33m\u001b[0m\u001b[0m\n\u001b[1;32m---> 20\u001b[1;33m \u001b[0mtemp\u001b[0m\u001b[1;33m.\u001b[0m\u001b[0madd\u001b[0m\u001b[1;33m(\u001b[0m\u001b[0mDropout\u001b[0m\u001b[1;33m(\u001b[0m\u001b[1;36m0.2\u001b[0m\u001b[1;33m)\u001b[0m\u001b[1;33m)\u001b[0m\u001b[1;33m\u001b[0m\u001b[1;33m\u001b[0m\u001b[0m\n\u001b[0m\u001b[0;32m     21\u001b[0m \u001b[1;33m\u001b[0m\u001b[0m\n\u001b[0;32m     22\u001b[0m \u001b[1;31m# Adding second convolutional-pooling pair\u001b[0m\u001b[1;33m\u001b[0m\u001b[1;33m\u001b[0m\u001b[1;33m\u001b[0m\u001b[0m\n",
      "\u001b[1;31mNameError\u001b[0m: name 'Dropout' is not defined"
     ]
    }
   ],
   "source": [
    "# Building 3 models\n",
    "# RGB --> {64C5-P2-D20} --> {128C5-P2-D20} --> {256C5-P2-D20} --> {512C5-P2-D20} --> 2048-D20 --> 5\n",
    "# RGB --> {64C5-64C2S2-D20} --> {128C5-128C2S2-D20} --> {256C5-256C2S2-D20} --> {512C5-512C2S2-D20} --> 2048-D20 --> 5\n",
    "# RGB --> {64C5-AP2-D20} --> {128C5-AP2-D20} --> {256C5-AP2-D20} --> {512C5-AP2-D20} --> 2048-D20 --> 5\n",
    "\n",
    "\n",
    "# Defining list to collect models in\n",
    "model = []\n",
    "\n",
    "\n",
    "# Building 1st model\n",
    "# RGB --> {64C5-P2-D20} --> {128C5-P2-D20} --> {256C5-P2-D20} --> {512C5-P2-D20} --> 2048-D20 --> 5\n",
    "\n",
    "# Initializing model to be as linear stack of layers\n",
    "temp = Sequential()\n",
    "\n",
    "# Adding first convolutional-pooling pair\n",
    "temp.add(Conv2D(64, kernel_size=5, padding='same', activation='relu', input_shape=(64, 64, 3)))\n",
    "temp.add(MaxPool2D())\n",
    "temp.add(Dropout(0.2))\n",
    "\n",
    "# Adding second convolutional-pooling pair\n",
    "temp.add(Conv2D(128, kernel_size=5, padding='same', activation='relu'))\n",
    "temp.add(MaxPool2D())\n",
    "temp.add(Dropout(0.2))\n",
    "\n",
    "# Adding third convolutional-pooling pair\n",
    "temp.add(Conv2D(256, kernel_size=5, padding='same', activation='relu'))\n",
    "temp.add(MaxPool2D())\n",
    "temp.add(Dropout(0.2))\n",
    "\n",
    "# Adding fourth convolutional-pooling pair\n",
    "temp.add(Conv2D(512, kernel_size=5, padding='same', activation='relu'))\n",
    "temp.add(MaxPool2D())\n",
    "temp.add(Dropout(0.2))\n",
    "\n",
    "# Adding fully connected layers\n",
    "temp.add(Flatten())\n",
    "temp.add(Dense(2048, activation='relu'))\n",
    "temp.add(Dropout(0.2))\n",
    "temp.add(Dense(5, activation='softmax'))\n",
    "\n",
    "# Compiling created model\n",
    "temp.compile(optimizer='adam', loss='categorical_crossentropy', metrics=['accuracy'])\n",
    "\n",
    "# Adding current model in the list\n",
    "model.append(temp)\n",
    "\n",
    "\n",
    "\n",
    "# Building 2nd model\n",
    "# RGB --> {64C5-64C2S2-D20} --> {128C5-128C2S2-D20} --> {256C5-256C2S2-D20} --> {512C5-512C2S2-D20} --> 2048-D20 --> 5\n",
    "\n",
    "# Initializing model to be as linear stack of layers\n",
    "temp = Sequential()\n",
    "\n",
    "# Adding first convolutional-convolutional pair\n",
    "temp.add(Conv2D(64, kernel_size=5, padding='same', activation='relu', input_shape=(64, 64, 3)))\n",
    "temp.add(Conv2D(64, kernel_size=2, padding='same', activation='relu', strides=2))\n",
    "temp.add(Dropout(0.2))\n",
    "\n",
    "# Adding second convolutional-convolutional pair\n",
    "temp.add(Conv2D(128, kernel_size=5, padding='same', activation='relu'))\n",
    "temp.add(Conv2D(128, kernel_size=2, padding='same', activation='relu', strides=2))\n",
    "temp.add(Dropout(0.2))\n",
    "\n",
    "# Adding third convolutional-convolutional pair\n",
    "temp.add(Conv2D(256, kernel_size=5, padding='same', activation='relu'))\n",
    "temp.add(Conv2D(256, kernel_size=2, padding='same', activation='relu', strides=2))\n",
    "temp.add(Dropout(0.2))\n",
    "\n",
    "# Adding fourth convolutional-convolutional pair\n",
    "temp.add(Conv2D(512, kernel_size=5, padding='same', activation='relu'))\n",
    "temp.add(Conv2D(512, kernel_size=2, padding='same', activation='relu', strides=2))\n",
    "temp.add(Dropout(0.2))\n",
    "\n",
    "# Adding fully connected layers\n",
    "temp.add(Flatten())\n",
    "temp.add(Dense(2048, activation='relu'))\n",
    "temp.add(Dropout(0.2))\n",
    "temp.add(Dense(5, activation='softmax'))\n",
    "\n",
    "# Compiling created model\n",
    "temp.compile(optimizer='adam', loss='categorical_crossentropy', metrics=['accuracy'])\n",
    "\n",
    "# Adding current model in the list\n",
    "model.append(temp)\n",
    "\n",
    "\n",
    "\n",
    "# Building 3rd model\n",
    "# RGB --> {64C5-AP2-D20} --> {128C5-AP2-D20} --> {256C5-AP2-D20} --> {512C5-AP2-D20} --> 2048-D20 --> 5\n",
    "\n",
    "# Initializing model to be as linear stack of layers\n",
    "temp = Sequential()\n",
    "\n",
    "# Adding first convolutional-pooling(average) pair\n",
    "temp.add(Conv2D(64, kernel_size=5, padding='same', activation='relu', input_shape=(64, 64, 3)))\n",
    "temp.add(AvgPool2D())\n",
    "temp.add(Dropout(0.2))\n",
    "\n",
    "# Adding second convolutional-pooling(average) pair\n",
    "temp.add(Conv2D(128, kernel_size=5, padding='same', activation='relu'))\n",
    "temp.add(AvgPool2D())\n",
    "temp.add(Dropout(0.2))\n",
    "\n",
    "# Adding third convolutional-pooling(average) pair\n",
    "temp.add(Conv2D(256, kernel_size=5, padding='same', activation='relu'))\n",
    "temp.add(AvgPool2D())\n",
    "temp.add(Dropout(0.2))\n",
    "\n",
    "# Adding fourth convolutional-pooling(average) pair\n",
    "temp.add(Conv2D(512, kernel_size=5, padding='same', activation='relu'))\n",
    "temp.add(AvgPool2D())\n",
    "temp.add(Dropout(0.2))\n",
    "\n",
    "# Adding fully connected layers\n",
    "temp.add(Flatten())\n",
    "temp.add(Dense(2048, activation='relu'))\n",
    "temp.add(Dropout(0.2))\n",
    "temp.add(Dense(5, activation='softmax'))\n",
    "\n",
    "# Compiling created model\n",
    "temp.compile(optimizer='adam', loss='categorical_crossentropy', metrics=['accuracy'])\n",
    "\n",
    "# Adding current model in the list\n",
    "model.append(temp)\n",
    "\n",
    "\n",
    "\n",
    "# Check point\n",
    "print('3 models are compiled successfully')\n"
   ]
  },
  {
   "cell_type": "markdown",
   "metadata": {},
   "source": [
    "### RGB custom dataset (255.0 ==> mean ==> std)\n",
    "\n",
    "## Step 4: Visualizing built CNN models"
   ]
  },
  {
   "cell_type": "code",
   "execution_count": null,
   "metadata": {
    "scrolled": true
   },
   "outputs": [],
   "source": [
    "# Plotting model's layers in form of flowchart\n",
    "plot_model(model[1],\n",
    "           to_file='model.png',\n",
    "           show_shapes=True,\n",
    "           show_layer_names=False,\n",
    "           rankdir='TB',\n",
    "           dpi=500)\n"
   ]
  },
  {
   "cell_type": "code",
   "execution_count": null,
   "metadata": {
    "scrolled": false
   },
   "outputs": [],
   "source": [
    "# Showing model's summary in form of table\n",
    "model[2].summary()\n"
   ]
  },
  {
   "cell_type": "code",
   "execution_count": null,
   "metadata": {},
   "outputs": [],
   "source": [
    "# Showing dropout rate\n",
    "print(model[1].layers[2].rate)\n",
    "\n",
    "# Showing strides for the 1st convolutional layer\n",
    "print(model[1].layers[0].strides)\n",
    "\n",
    "# Showing strides for the 2nd convolutional layer\n",
    "print(model[1].layers[1].strides)\n"
   ]
  },
  {
   "cell_type": "markdown",
   "metadata": {},
   "source": [
    "### RGB custom dataset (255.0 ==> mean ==> std)\n",
    "\n",
    "## Step 5: Setting up learning rate & epochs"
   ]
  },
  {
   "cell_type": "code",
   "execution_count": null,
   "metadata": {},
   "outputs": [],
   "source": [
    "# Defining number of epochs\n",
    "epochs = 20\n",
    "\n",
    "# Defining schedule to update learning rate\n",
    "learning_rate = LearningRateScheduler(lambda x: 1e-3 * 0.95 ** (x + epochs), verbose=1)\n",
    "\n",
    "# Check point\n",
    "print('Number of epochs and schedule for learning rate are set successfully')\n"
   ]
  },
  {
   "cell_type": "markdown",
   "metadata": {},
   "source": [
    "### RGB custom dataset (255.0 ==> mean ==> std)\n",
    "\n",
    "## Step 6: Training built CNN models"
   ]
  },
  {
   "cell_type": "code",
   "execution_count": null,
   "metadata": {
    "scrolled": true
   },
   "outputs": [],
   "source": [
    "# If you're using Nvidia GPU and 'cnngpu' environment, there might be an issue like:\n",
    "'''Failed to get convolution algorithm. This is probably because cuDNN failed to initialize'''\n",
    "# In this case, close all Jupyter Notebooks, close Terminal Window or Anaconda Prompt\n",
    "# Open again just this one Jupyter Notebook and run it\n",
    "\n",
    "\n",
    "# Defining list to collect results in\n",
    "h = []\n",
    "\n",
    "\n",
    "# Training models in a loop\n",
    "for i in range(3):\n",
    "    # Current model\n",
    "    temp = model[i].fit(x_train, y_train,\n",
    "                        batch_size=50,\n",
    "                        epochs=epochs,\n",
    "                        validation_data=(x_validation, y_validation),\n",
    "                        callbacks=[learning_rate],\n",
    "                        verbose=1)\n",
    "    \n",
    "    # Adding results of current model in the list\n",
    "    h.append(temp)\n"
   ]
  },
  {
   "cell_type": "markdown",
   "metadata": {},
   "source": [
    "### RGB custom dataset (255.0 ==> mean ==> std)\n",
    "\n",
    "## Step 7: Showing and plotting accuracies"
   ]
  },
  {
   "cell_type": "code",
   "execution_count": null,
   "metadata": {},
   "outputs": [],
   "source": [
    "# Accuracies of the models\n",
    "for i in range(3):\n",
    "    print('Model {0}: Training accuracy={1:.5f}, Validation accuracy={2:.5f}'.\n",
    "                                                          format(i + 1,\n",
    "                                                                 max(h[i].history['accuracy']),\n",
    "                                                                 max(h[i].history['val_accuracy'])))\n"
   ]
  },
  {
   "cell_type": "code",
   "execution_count": null,
   "metadata": {
    "scrolled": false
   },
   "outputs": [],
   "source": [
    "# Magic function that renders the figure in a jupyter notebook\n",
    "# instead of displaying a figure object\n",
    "%matplotlib inline\n",
    "\n",
    "\n",
    "# Setting default size of the plot\n",
    "plt.rcParams['figure.figsize'] = (12.0, 6.0)\n",
    "\n",
    "\n",
    "# Plotting accuracies for every model\n",
    "plt.plot(h[0].history['val_accuracy'], '-o')\n",
    "plt.plot(h[1].history['val_accuracy'], '-o')\n",
    "plt.plot(h[2].history['val_accuracy'], '-o')\n",
    "\n",
    "\n",
    "# Setting limit along Y axis\n",
    "plt.ylim(0.53, 0.72)\n",
    "\n",
    "\n",
    "# Showing legend\n",
    "plt.legend(['model_1', 'model_2', 'model_3'], loc='lower right', fontsize='xx-large')\n",
    "\n",
    "\n",
    "# Giving name to axes\n",
    "plt.xlabel('Epoch', fontsize=16)\n",
    "plt.ylabel('Accuracy', fontsize=16)\n",
    "\n",
    "\n",
    "# Giving name to the plot\n",
    "plt.title('Models accuracies: Custom Dataset', fontsize=16)\n",
    "\n",
    "\n",
    "# Showing the plot\n",
    "plt.show()\n"
   ]
  },
  {
   "cell_type": "code",
   "execution_count": null,
   "metadata": {
    "scrolled": true
   },
   "outputs": [],
   "source": [
    "# Showing list of scheduled learning rate for every epoch\n",
    "print(h[0].history['lr'])\n"
   ]
  },
  {
   "cell_type": "code",
   "execution_count": null,
   "metadata": {},
   "outputs": [],
   "source": [
    "# Magic function that renders the figure in a jupyter notebook\n",
    "# instead of displaying a figure object\n",
    "%matplotlib inline\n",
    "\n",
    "\n",
    "# Plotting scheduled learning rate\n",
    "plt.plot(h[0].history['lr'], '-mo')\n",
    "\n",
    "\n",
    "# Showing the plot\n",
    "plt.show()\n"
   ]
  },
  {
   "cell_type": "markdown",
   "metadata": {},
   "source": [
    "### RGB custom dataset (255.0 ==> mean ==> std)\n",
    "\n",
    "## Step 8: Making a conclusion"
   ]
  },
  {
   "cell_type": "code",
   "execution_count": null,
   "metadata": {},
   "outputs": [],
   "source": [
    "# According to validation accuracy, the 3rd model has the highest value\n",
    "\n",
    "# The choice for custom dataset is 3rd model\n",
    "# RGB --> {64C5-AP2-D20} --> {128C5-AP2-D20} --> {256C5-AP2-D20} --> {512C5-AP2-D20} --> 2048-D20 --> 5\n",
    "# GRAY input --> {64C5-AP2-D20} --> {128C5-AP2-D20} --> {256C5-AP2-D20} --> {512C5-AP2-D20} --> 2048-D20 --> 5\n",
    "\n",
    "# RGB input: (64, 64, 3)\n",
    "# GRAY input: (64, 64, 1)\n"
   ]
  }
 ],
 "metadata": {
  "kernelspec": {
   "display_name": "Python 3",
   "language": "python",
   "name": "python3"
  },
  "language_info": {
   "codemirror_mode": {
    "name": "ipython",
    "version": 3
   },
   "file_extension": ".py",
   "mimetype": "text/x-python",
   "name": "python",
   "nbconvert_exporter": "python",
   "pygments_lexer": "ipython3",
   "version": "3.7.9"
  }
 },
 "nbformat": 4,
 "nbformat_minor": 2
}
