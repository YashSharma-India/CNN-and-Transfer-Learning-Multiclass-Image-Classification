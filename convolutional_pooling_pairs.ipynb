{
 "cells": [
  {
   "cell_type": "markdown",
   "metadata": {},
   "source": [
    "\n",
    "\n",
    "\n",
    "# Construct deep architectures for CNN models\n",
    "\n",
    "\n",
    "### **Description: Selecting deepness of network by number of convolutional and pooling layers in a sequence Interpret notation**\n"
   ]
  },
  {
   "cell_type": "markdown",
   "metadata": {},
   "source": [
    "### Algorithm:\n",
    "\n",
    "**--> Step 1:** Open preprocessed dataset  \n",
    "**--> Step 2:** Convert classes vectors to binary matrices  \n",
    "**--> Step 3:** Choose **number of Convolutional-Pooling pairs**  \n",
    "**--> Step 4:** Visualize built CNN models  \n",
    "**--> Step 5:** Set up learning rate & epochs  \n",
    "**--> Step 6:** Train built CNN models  \n",
    "**--> Step 7:** Show and plot accuracies  \n",
    "**--> Step 8:** Make a conclusion  \n",
    "\n",
    "\n",
    "**Result:**  \n",
    "- Chosen architecture for every preprocessed dataset  \n"
   ]
  },
  {
   "cell_type": "markdown",
   "metadata": {},
   "source": [
    "## Importing libraries"
   ]
  },
  {
   "cell_type": "code",
   "execution_count": 32,
   "metadata": {},
   "outputs": [],
   "source": [
    "# Importing needed libraries\n",
    "import matplotlib.pyplot as plt\n",
    "import numpy as np\n",
    "import h5py\n",
    "\n",
    "\n",
    "from keras.utils.np_utils import to_categorical\n",
    "from keras.models import Sequential, load_model\n",
    "from keras.layers import Conv2D, MaxPool2D, Flatten, Dense, Dropout \n",
    "from keras.callbacks import LearningRateScheduler\n",
    "from keras.utils import plot_model"
   ]
  },
  {
   "cell_type": "markdown",
   "metadata": {},
   "source": [
    "## Setting up full path to preprocessed datasets"
   ]
  },
  {
   "cell_type": "code",
   "execution_count": 2,
   "metadata": {},
   "outputs": [],
   "source": [
    "# Full or absolute path to preprocessed datasets\n",
    "full_path_to_code = \\\n",
    "    'C:/Users/yashs/PycharmProjects/InternshipCNN/TCS'"
   ]
  },
  {
   "cell_type": "markdown",
   "metadata": {},
   "source": [
    "## Opening preprocessed dataset"
   ]
  },
  {
   "cell_type": "code",
   "execution_count": 3,
   "metadata": {},
   "outputs": [
    {
     "name": "stdout",
     "output_type": "stream",
     "text": [
      "['x_test', 'x_train', 'x_validation', 'y_test', 'y_train', 'y_validation']\n"
     ]
    }
   ],
   "source": [
    "# Opening saved custom dataset from HDF5 binary file\n",
    "# Initiating File object\n",
    "# Opening file in reading mode by 'r'\n",
    "with h5py.File(full_path_to_code + '/' + 'custom' + '/' +\n",
    "               'dataset_custom_rgb_255_mean_std.hdf5', 'r') as f:\n",
    "    \n",
    "    # Showing all keys in the HDF5 binary file\n",
    "    print(list(f.keys()))\n",
    "    \n",
    "    # Extracting saved arrays for training by appropriate keys\n",
    "    # Saving them into new variables\n",
    "    x_train = f['x_train']  # HDF5 dataset\n",
    "    y_train = f['y_train']  # HDF5 dataset\n",
    "    # Converting them into Numpy arrays\n",
    "    x_train = np.array(x_train)  # Numpy arrays\n",
    "    y_train = np.array(y_train)  # Numpy arrays\n",
    "    \n",
    "    \n",
    "    # Extracting saved arrays for validation by appropriate keys\n",
    "    # Saving them into new variables\n",
    "    x_validation = f['x_validation']  # HDF5 dataset\n",
    "    y_validation = f['y_validation']  # HDF5 dataset\n",
    "    # Converting them into Numpy arrays\n",
    "    x_validation = np.array(x_validation)  # Numpy arrays\n",
    "    y_validation = np.array(y_validation)  # Numpy arrays\n",
    "    \n",
    "    \n",
    "    # Extracting saved arrays for testing by appropriate keys\n",
    "    # Saving them into new variables\n",
    "    x_test = f['x_test']  # HDF5 dataset\n",
    "    y_test = f['y_test']  # HDF5 dataset\n",
    "    # Converting them into Numpy arrays\n",
    "    x_test = np.array(x_test)  # Numpy arrays\n",
    "    y_test = np.array(y_test)  # Numpy arrays\n"
   ]
  },
  {
   "cell_type": "code",
   "execution_count": 4,
   "metadata": {
    "scrolled": true
   },
   "outputs": [
    {
     "name": "stdout",
     "output_type": "stream",
     "text": [
      "<class 'numpy.ndarray'>\n",
      "<class 'numpy.ndarray'>\n",
      "<class 'numpy.ndarray'>\n",
      "<class 'numpy.ndarray'>\n",
      "<class 'numpy.ndarray'>\n",
      "<class 'numpy.ndarray'>\n",
      "\n",
      "(3240, 64, 64, 3)\n",
      "(3240,)\n",
      "(1110, 64, 64, 3)\n",
      "(1110,)\n",
      "(278, 64, 64, 3)\n",
      "(278,)\n"
     ]
    }
   ],
   "source": [
    "# Showing types of loaded arrays\n",
    "print(type(x_train))\n",
    "print(type(y_train))\n",
    "print(type(x_validation))\n",
    "print(type(y_validation))\n",
    "print(type(x_test))\n",
    "print(type(y_test))\n",
    "print()\n",
    "\n",
    "\n",
    "# Showing shapes of loaded arrays\n",
    "print(x_train.shape)\n",
    "print(y_train.shape)\n",
    "print(x_validation.shape)\n",
    "print(y_validation.shape)\n",
    "print(x_test.shape)\n",
    "print(y_test.shape)\n"
   ]
  },
  {
   "cell_type": "markdown",
   "metadata": {},
   "source": [
    "## Converting classes vectors to classes matrices"
   ]
  },
  {
   "cell_type": "code",
   "execution_count": 5,
   "metadata": {},
   "outputs": [
    {
     "name": "stdout",
     "output_type": "stream",
     "text": [
      "Class index from vector: 3\n",
      "\n",
      "(3240, 5)\n",
      "(1110, 5)\n",
      "\n",
      "Class index from matrix: [0. 0. 0. 1. 0.]\n"
     ]
    }
   ],
   "source": [
    "# Showing class index from the vector\n",
    "print('Class index from vector:', y_train[0])\n",
    "print()\n",
    "\n",
    "# Preparing classes to be passed into the model\n",
    "# Transforming them from vectors to binary matrices\n",
    "y_train = to_categorical(y_train, num_classes = 5)\n",
    "y_validation = to_categorical(y_validation, num_classes = 5)\n",
    "\n",
    "\n",
    "# Showing shapes of converted vectors into matrices\n",
    "print(y_train.shape)\n",
    "print(y_validation.shape)\n",
    "print()\n",
    "\n",
    "\n",
    "# Showing class index from the matrix\n",
    "print('Class index from matrix:', y_train[0])\n"
   ]
  },
  {
   "cell_type": "markdown",
   "metadata": {},
   "source": [
    "## Choosing number of Convolutional-Pooling pairs"
   ]
  },
  {
   "cell_type": "code",
   "execution_count": 6,
   "metadata": {
    "slideshow": {
     "slide_type": "-"
    }
   },
   "outputs": [
    {
     "name": "stdout",
     "output_type": "stream",
     "text": [
      "1st model is compiled successfully\n",
      "2nd model is compiled successfully\n",
      "3rd model is compiled successfully\n",
      "4th model is compiled successfully\n"
     ]
    }
   ],
   "source": [
    "# Building 1st model\n",
    "# RGB --> {8C5-P2} --> 128 --> 5\n",
    "\n",
    "# Initializing model to be as linear stack of layers\n",
    "model_1 = Sequential()\n",
    "\n",
    "# Adding first pair {8C5-P2}\n",
    "model_1.add(Conv2D(8, kernel_size=5, padding='same', activation='relu', input_shape=(64, 64, 3)))\n",
    "model_1.add(MaxPool2D())\n",
    "\n",
    "# Adding fully connected layers\n",
    "model_1.add(Flatten())\n",
    "model_1.add(Dense(128, activation='relu'))\n",
    "model_1.add(Dense(5, activation='softmax'))\n",
    "\n",
    "# Compiling created model\n",
    "model_1.compile(optimizer='adam', loss='categorical_crossentropy', metrics=['accuracy'])\n",
    "\n",
    "print('1st model is compiled successfully')\n",
    "\n",
    "\n",
    "\n",
    "# Building 2nd model\n",
    "# RGB --> {8C5-P2} --> {16C5-P2} --> 128 --> 5\n",
    "\n",
    "# Initializing model to be as linear stack of layers\n",
    "model_2 = Sequential()\n",
    "\n",
    "# Adding first pair {8C5-P2}\n",
    "model_2.add(Conv2D(8, kernel_size=5, padding='same', activation='relu', input_shape=(64, 64, 3)))\n",
    "model_2.add(MaxPool2D())\n",
    "\n",
    "# Adding second pair {16C5-P2}\n",
    "model_2.add(Conv2D(16, kernel_size=5, padding='same', activation='relu'))\n",
    "model_2.add(MaxPool2D())\n",
    "\n",
    "# Adding fully connected layers\n",
    "model_2.add(Flatten())\n",
    "model_2.add(Dense(128, activation='relu'))\n",
    "model_2.add(Dense(5, activation='softmax'))\n",
    "\n",
    "# Compiling created model\n",
    "model_2.compile(optimizer='adam', loss='categorical_crossentropy', metrics=['accuracy'])\n",
    "\n",
    "print('2nd model is compiled successfully')\n",
    "\n",
    "\n",
    "\n",
    "# Building 3rd model\n",
    "# RGB --> {8C5-P2} --> {16C5-P2} --> {32C5-P2} --> 128 --> 5\n",
    "\n",
    "# Initializing model to be as linear stack of layers\n",
    "model_3 = Sequential()\n",
    "\n",
    "# Adding first pair {8C5-P2}\n",
    "model_3.add(Conv2D(8, kernel_size=5, padding='same', activation='relu', input_shape=(64, 64, 3)))\n",
    "model_3.add(MaxPool2D())\n",
    "\n",
    "# Adding second pair {16C5-P2}\n",
    "model_3.add(Conv2D(16, kernel_size=5, padding='same', activation='relu'))\n",
    "model_3.add(MaxPool2D())\n",
    "\n",
    "# Adding third pair {32C5-P2}\n",
    "model_3.add(Conv2D(32, kernel_size=5, padding='same', activation='relu'))\n",
    "model_3.add(MaxPool2D())\n",
    "\n",
    "# Adding fully connected layers\n",
    "model_3.add(Flatten())\n",
    "model_3.add(Dense(128, activation='relu'))\n",
    "model_3.add(Dense(5, activation='softmax'))\n",
    "\n",
    "# Compiling created model\n",
    "model_3.compile(optimizer='adam', loss='categorical_crossentropy', metrics=['accuracy'])\n",
    "\n",
    "print('3rd model is compiled successfully')\n",
    "\n",
    "\n",
    "\n",
    "# Building 4th model\n",
    "# RGB --> {8C5-P2} --> {16C5-P2} --> {32C5-P2} --> {64C5-P2} --> 128 --> 5\n",
    "\n",
    "# Initializing model to be as linear stack of layers\n",
    "model_4 = Sequential()\n",
    "\n",
    "# Adding first pair {8C5-P2}\n",
    "model_4.add(Conv2D(8, kernel_size=5, padding='same', activation='relu', input_shape=(64, 64, 3)))\n",
    "model_4.add(MaxPool2D())\n",
    "\n",
    "# Adding second pair {16C5-P2}\n",
    "model_4.add(Conv2D(16, kernel_size=5, padding='same', activation='relu'))\n",
    "model_4.add(MaxPool2D())\n",
    "\n",
    "# Adding third pair {32C5-P2}\n",
    "model_4.add(Conv2D(32, kernel_size=5, padding='same', activation='relu'))\n",
    "model_4.add(MaxPool2D())\n",
    "\n",
    "# Adding fourth pair {64C5-P2}\n",
    "model_4.add(Conv2D(64, kernel_size=5, padding='same', activation='relu'))\n",
    "model_4.add(MaxPool2D())\n",
    "\n",
    "# Adding fully connected layers\n",
    "model_4.add(Flatten())\n",
    "model_4.add(Dense(128, activation='relu'))\n",
    "model_4.add(Dense(5, activation='softmax'))\n",
    "\n",
    "# Compiling created model\n",
    "model_4.compile(optimizer='adam', loss='categorical_crossentropy', metrics=['accuracy'])\n",
    "\n",
    "print('4th model is compiled successfully')\n"
   ]
  },
  {
   "cell_type": "markdown",
   "metadata": {},
   "source": [
    "## Summarizing built CNN models"
   ]
  },
  {
   "cell_type": "code",
   "execution_count": 7,
   "metadata": {
    "scrolled": true
   },
   "outputs": [
    {
     "name": "stdout",
     "output_type": "stream",
     "text": [
      "Model: \"sequential\"\n",
      "_________________________________________________________________\n",
      "Layer (type)                 Output Shape              Param #   \n",
      "=================================================================\n",
      "conv2d (Conv2D)              (None, 64, 64, 8)         608       \n",
      "_________________________________________________________________\n",
      "max_pooling2d (MaxPooling2D) (None, 32, 32, 8)         0         \n",
      "_________________________________________________________________\n",
      "flatten (Flatten)            (None, 8192)              0         \n",
      "_________________________________________________________________\n",
      "dense (Dense)                (None, 128)               1048704   \n",
      "_________________________________________________________________\n",
      "dense_1 (Dense)              (None, 5)                 645       \n",
      "=================================================================\n",
      "Total params: 1,049,957\n",
      "Trainable params: 1,049,957\n",
      "Non-trainable params: 0\n",
      "_________________________________________________________________\n"
     ]
    }
   ],
   "source": [
    "# Showing model's summary in form of table\n",
    "model_1.summary()"
   ]
  },
  {
   "cell_type": "code",
   "execution_count": 8,
   "metadata": {},
   "outputs": [
    {
     "name": "stdout",
     "output_type": "stream",
     "text": [
      "Model: \"sequential_1\"\n",
      "_________________________________________________________________\n",
      "Layer (type)                 Output Shape              Param #   \n",
      "=================================================================\n",
      "conv2d_1 (Conv2D)            (None, 64, 64, 8)         608       \n",
      "_________________________________________________________________\n",
      "max_pooling2d_1 (MaxPooling2 (None, 32, 32, 8)         0         \n",
      "_________________________________________________________________\n",
      "conv2d_2 (Conv2D)            (None, 32, 32, 16)        3216      \n",
      "_________________________________________________________________\n",
      "max_pooling2d_2 (MaxPooling2 (None, 16, 16, 16)        0         \n",
      "_________________________________________________________________\n",
      "flatten_1 (Flatten)          (None, 4096)              0         \n",
      "_________________________________________________________________\n",
      "dense_2 (Dense)              (None, 128)               524416    \n",
      "_________________________________________________________________\n",
      "dense_3 (Dense)              (None, 5)                 645       \n",
      "=================================================================\n",
      "Total params: 528,885\n",
      "Trainable params: 528,885\n",
      "Non-trainable params: 0\n",
      "_________________________________________________________________\n"
     ]
    }
   ],
   "source": [
    "# Showing model's summary in form of table\n",
    "model_2.summary()"
   ]
  },
  {
   "cell_type": "code",
   "execution_count": 9,
   "metadata": {},
   "outputs": [
    {
     "name": "stdout",
     "output_type": "stream",
     "text": [
      "Model: \"sequential_2\"\n",
      "_________________________________________________________________\n",
      "Layer (type)                 Output Shape              Param #   \n",
      "=================================================================\n",
      "conv2d_3 (Conv2D)            (None, 64, 64, 8)         608       \n",
      "_________________________________________________________________\n",
      "max_pooling2d_3 (MaxPooling2 (None, 32, 32, 8)         0         \n",
      "_________________________________________________________________\n",
      "conv2d_4 (Conv2D)            (None, 32, 32, 16)        3216      \n",
      "_________________________________________________________________\n",
      "max_pooling2d_4 (MaxPooling2 (None, 16, 16, 16)        0         \n",
      "_________________________________________________________________\n",
      "conv2d_5 (Conv2D)            (None, 16, 16, 32)        12832     \n",
      "_________________________________________________________________\n",
      "max_pooling2d_5 (MaxPooling2 (None, 8, 8, 32)          0         \n",
      "_________________________________________________________________\n",
      "flatten_2 (Flatten)          (None, 2048)              0         \n",
      "_________________________________________________________________\n",
      "dense_4 (Dense)              (None, 128)               262272    \n",
      "_________________________________________________________________\n",
      "dense_5 (Dense)              (None, 5)                 645       \n",
      "=================================================================\n",
      "Total params: 279,573\n",
      "Trainable params: 279,573\n",
      "Non-trainable params: 0\n",
      "_________________________________________________________________\n"
     ]
    }
   ],
   "source": [
    "# Showing model's summary in form of table\n",
    "model_3.summary()"
   ]
  },
  {
   "cell_type": "code",
   "execution_count": 10,
   "metadata": {},
   "outputs": [
    {
     "name": "stdout",
     "output_type": "stream",
     "text": [
      "Model: \"sequential_3\"\n",
      "_________________________________________________________________\n",
      "Layer (type)                 Output Shape              Param #   \n",
      "=================================================================\n",
      "conv2d_6 (Conv2D)            (None, 64, 64, 8)         608       \n",
      "_________________________________________________________________\n",
      "max_pooling2d_6 (MaxPooling2 (None, 32, 32, 8)         0         \n",
      "_________________________________________________________________\n",
      "conv2d_7 (Conv2D)            (None, 32, 32, 16)        3216      \n",
      "_________________________________________________________________\n",
      "max_pooling2d_7 (MaxPooling2 (None, 16, 16, 16)        0         \n",
      "_________________________________________________________________\n",
      "conv2d_8 (Conv2D)            (None, 16, 16, 32)        12832     \n",
      "_________________________________________________________________\n",
      "max_pooling2d_8 (MaxPooling2 (None, 8, 8, 32)          0         \n",
      "_________________________________________________________________\n",
      "conv2d_9 (Conv2D)            (None, 8, 8, 64)          51264     \n",
      "_________________________________________________________________\n",
      "max_pooling2d_9 (MaxPooling2 (None, 4, 4, 64)          0         \n",
      "_________________________________________________________________\n",
      "flatten_3 (Flatten)          (None, 1024)              0         \n",
      "_________________________________________________________________\n",
      "dense_6 (Dense)              (None, 128)               131200    \n",
      "_________________________________________________________________\n",
      "dense_7 (Dense)              (None, 5)                 645       \n",
      "=================================================================\n",
      "Total params: 199,765\n",
      "Trainable params: 199,765\n",
      "Non-trainable params: 0\n",
      "_________________________________________________________________\n"
     ]
    }
   ],
   "source": [
    "# Showing model's summary in form of table\n",
    "model_4.summary()"
   ]
  },
  {
   "cell_type": "markdown",
   "metadata": {},
   "source": [
    "## Setting up learning rate & epochs"
   ]
  },
  {
   "cell_type": "code",
   "execution_count": 12,
   "metadata": {},
   "outputs": [
    {
     "name": "stdout",
     "output_type": "stream",
     "text": [
      "Number of epochs and schedule for learning rate are set successfully\n"
     ]
    }
   ],
   "source": [
    "# Defining number of epochs\n",
    "epochs = 20\n",
    "\n",
    "# Defining schedule to update learning rate\n",
    "learning_rate = LearningRateScheduler(lambda x: 1e-3 * 0.95 ** (x + epochs), verbose=1)\n",
    "\n",
    "print('Number of epochs and schedule for learning rate are set successfully')\n"
   ]
  },
  {
   "cell_type": "markdown",
   "metadata": {},
   "source": [
    "## Training built CNN models"
   ]
  },
  {
   "cell_type": "code",
   "execution_count": 13,
   "metadata": {
    "scrolled": true
   },
   "outputs": [
    {
     "name": "stdout",
     "output_type": "stream",
     "text": [
      "\n",
      "Epoch 00001: LearningRateScheduler reducing learning rate to 0.0003584859224085419.\n",
      "Epoch 1/20\n",
      "65/65 [==============================] - 2s 36ms/step - loss: 1.3548 - accuracy: 0.4559 - val_loss: 1.1199 - val_accuracy: 0.5180\n",
      "\n",
      "Epoch 00002: LearningRateScheduler reducing learning rate to 0.0003405616262881148.\n",
      "Epoch 2/20\n",
      "65/65 [==============================] - 2s 33ms/step - loss: 1.0159 - accuracy: 0.5688 - val_loss: 1.0010 - val_accuracy: 0.6045\n",
      "\n",
      "Epoch 00003: LearningRateScheduler reducing learning rate to 0.000323533544973709.\n",
      "Epoch 3/20\n",
      "65/65 [==============================] - 2s 36ms/step - loss: 0.8850 - accuracy: 0.6401 - val_loss: 1.0383 - val_accuracy: 0.5514\n",
      "\n",
      "Epoch 00004: LearningRateScheduler reducing learning rate to 0.00030735686772502356.\n",
      "Epoch 4/20\n",
      "65/65 [==============================] - 2s 35ms/step - loss: 0.7883 - accuracy: 0.6858 - val_loss: 0.9697 - val_accuracy: 0.5910\n",
      "\n",
      "Epoch 00005: LearningRateScheduler reducing learning rate to 0.0002919890243387724.\n",
      "Epoch 5/20\n",
      "65/65 [==============================] - 2s 34ms/step - loss: 0.7073 - accuracy: 0.7253 - val_loss: 1.0034 - val_accuracy: 0.6126\n",
      "\n",
      "Epoch 00006: LearningRateScheduler reducing learning rate to 0.00027738957312183375.\n",
      "Epoch 6/20\n",
      "65/65 [==============================] - 2s 36ms/step - loss: 0.6285 - accuracy: 0.7735 - val_loss: 0.9735 - val_accuracy: 0.5910\n",
      "\n",
      "Epoch 00007: LearningRateScheduler reducing learning rate to 0.00026352009446574203.\n",
      "Epoch 7/20\n",
      "65/65 [==============================] - 2s 36ms/step - loss: 0.5498 - accuracy: 0.8099 - val_loss: 1.0402 - val_accuracy: 0.6027\n",
      "\n",
      "Epoch 00008: LearningRateScheduler reducing learning rate to 0.00025034408974245495.\n",
      "Epoch 8/20\n",
      "65/65 [==============================] - 2s 34ms/step - loss: 0.4896 - accuracy: 0.8404 - val_loss: 1.0914 - val_accuracy: 0.5955\n",
      "\n",
      "Epoch 00009: LearningRateScheduler reducing learning rate to 0.00023782688525533216.\n",
      "Epoch 9/20\n",
      "65/65 [==============================] - 2s 33ms/step - loss: 0.4281 - accuracy: 0.8670 - val_loss: 1.0478 - val_accuracy: 0.5883\n",
      "\n",
      "Epoch 00010: LearningRateScheduler reducing learning rate to 0.00022593554099256555.\n",
      "Epoch 10/20\n",
      "65/65 [==============================] - 2s 33ms/step - loss: 0.3913 - accuracy: 0.8852 - val_loss: 1.0692 - val_accuracy: 0.5928\n",
      "\n",
      "Epoch 00011: LearningRateScheduler reducing learning rate to 0.00021463876394293727.\n",
      "Epoch 11/20\n",
      "65/65 [==============================] - 2s 33ms/step - loss: 0.3314 - accuracy: 0.9139 - val_loss: 1.1118 - val_accuracy: 0.5748\n",
      "\n",
      "Epoch 00012: LearningRateScheduler reducing learning rate to 0.00020390682574579038.\n",
      "Epoch 12/20\n",
      "65/65 [==============================] - 2s 32ms/step - loss: 0.2894 - accuracy: 0.9284 - val_loss: 1.1107 - val_accuracy: 0.6081\n",
      "\n",
      "Epoch 00013: LearningRateScheduler reducing learning rate to 0.00019371148445850088.\n",
      "Epoch 13/20\n",
      "65/65 [==============================] - 2s 33ms/step - loss: 0.2616 - accuracy: 0.9410 - val_loss: 1.1491 - val_accuracy: 0.5919\n",
      "\n",
      "Epoch 00014: LearningRateScheduler reducing learning rate to 0.00018402591023557584.\n",
      "Epoch 14/20\n",
      "65/65 [==============================] - 2s 31ms/step - loss: 0.2268 - accuracy: 0.9543 - val_loss: 1.1628 - val_accuracy: 0.5991\n",
      "\n",
      "Epoch 00015: LearningRateScheduler reducing learning rate to 0.000174824614723797.\n",
      "Epoch 15/20\n",
      "65/65 [==============================] - 2s 32ms/step - loss: 0.1958 - accuracy: 0.9664 - val_loss: 1.1710 - val_accuracy: 0.5991\n",
      "\n",
      "Epoch 00016: LearningRateScheduler reducing learning rate to 0.00016608338398760718.\n",
      "Epoch 16/20\n",
      "65/65 [==============================] - 2s 31ms/step - loss: 0.1717 - accuracy: 0.9725 - val_loss: 1.1874 - val_accuracy: 0.6063\n",
      "\n",
      "Epoch 00017: LearningRateScheduler reducing learning rate to 0.0001577792147882268.\n",
      "Epoch 17/20\n",
      "65/65 [==============================] - 2s 31ms/step - loss: 0.1498 - accuracy: 0.9787 - val_loss: 1.2188 - val_accuracy: 0.5883\n",
      "\n",
      "Epoch 00018: LearningRateScheduler reducing learning rate to 0.00014989025404881545.\n",
      "Epoch 18/20\n",
      "65/65 [==============================] - 2s 33ms/step - loss: 0.1349 - accuracy: 0.9836 - val_loss: 1.2377 - val_accuracy: 0.5919\n",
      "\n",
      "Epoch 00019: LearningRateScheduler reducing learning rate to 0.00014239574134637466.\n",
      "Epoch 19/20\n",
      "65/65 [==============================] - 2s 31ms/step - loss: 0.1190 - accuracy: 0.9880 - val_loss: 1.2622 - val_accuracy: 0.5865\n",
      "\n",
      "Epoch 00020: LearningRateScheduler reducing learning rate to 0.00013527595427905592.\n",
      "Epoch 20/20\n",
      "65/65 [==============================] - 2s 31ms/step - loss: 0.1063 - accuracy: 0.9910 - val_loss: 1.2931 - val_accuracy: 0.5874\n",
      "\n",
      "Epoch 00001: LearningRateScheduler reducing learning rate to 0.0003584859224085419.\n",
      "Epoch 1/20\n",
      "65/65 [==============================] - 4s 54ms/step - loss: 1.2347 - accuracy: 0.4583 - val_loss: 1.0707 - val_accuracy: 0.5486\n",
      "\n",
      "Epoch 00002: LearningRateScheduler reducing learning rate to 0.0003405616262881148.\n",
      "Epoch 2/20\n",
      "65/65 [==============================] - 3s 53ms/step - loss: 1.0006 - accuracy: 0.5889 - val_loss: 0.9975 - val_accuracy: 0.5802\n",
      "\n",
      "Epoch 00003: LearningRateScheduler reducing learning rate to 0.000323533544973709.\n",
      "Epoch 3/20\n",
      "65/65 [==============================] - 3s 52ms/step - loss: 0.8687 - accuracy: 0.6509 - val_loss: 0.9592 - val_accuracy: 0.6009\n",
      "\n",
      "Epoch 00004: LearningRateScheduler reducing learning rate to 0.00030735686772502356.\n",
      "Epoch 4/20\n",
      "65/65 [==============================] - 3s 52ms/step - loss: 0.7545 - accuracy: 0.7151 - val_loss: 0.9369 - val_accuracy: 0.5910\n",
      "\n",
      "Epoch 00005: LearningRateScheduler reducing learning rate to 0.0002919890243387724.\n",
      "Epoch 5/20\n",
      "65/65 [==============================] - 3s 52ms/step - loss: 0.6801 - accuracy: 0.7429 - val_loss: 0.9351 - val_accuracy: 0.6036\n",
      "\n",
      "Epoch 00006: LearningRateScheduler reducing learning rate to 0.00027738957312183375.\n",
      "Epoch 6/20\n",
      "65/65 [==============================] - 3s 53ms/step - loss: 0.5968 - accuracy: 0.7784 - val_loss: 0.9772 - val_accuracy: 0.5892\n",
      "\n",
      "Epoch 00007: LearningRateScheduler reducing learning rate to 0.00026352009446574203.\n",
      "Epoch 7/20\n",
      "65/65 [==============================] - 3s 53ms/step - loss: 0.4980 - accuracy: 0.8299 - val_loss: 1.0146 - val_accuracy: 0.6189\n",
      "\n",
      "Epoch 00008: LearningRateScheduler reducing learning rate to 0.00025034408974245495.\n",
      "Epoch 8/20\n",
      "65/65 [==============================] - 3s 53ms/step - loss: 0.4382 - accuracy: 0.8475 - val_loss: 0.9773 - val_accuracy: 0.6180\n",
      "\n",
      "Epoch 00009: LearningRateScheduler reducing learning rate to 0.00023782688525533216.\n",
      "Epoch 9/20\n",
      "65/65 [==============================] - 3s 52ms/step - loss: 0.3644 - accuracy: 0.8870 - val_loss: 0.9981 - val_accuracy: 0.6198\n",
      "\n",
      "Epoch 00010: LearningRateScheduler reducing learning rate to 0.00022593554099256555.\n",
      "Epoch 10/20\n",
      "65/65 [==============================] - 3s 52ms/step - loss: 0.3074 - accuracy: 0.9154 - val_loss: 1.0946 - val_accuracy: 0.6198\n",
      "\n",
      "Epoch 00011: LearningRateScheduler reducing learning rate to 0.00021463876394293727.\n",
      "Epoch 11/20\n",
      "65/65 [==============================] - 3s 53ms/step - loss: 0.2656 - accuracy: 0.9293 - val_loss: 1.0831 - val_accuracy: 0.6216\n",
      "\n",
      "Epoch 00012: LearningRateScheduler reducing learning rate to 0.00020390682574579038.\n",
      "Epoch 12/20\n",
      "65/65 [==============================] - 3s 53ms/step - loss: 0.2051 - accuracy: 0.9568 - val_loss: 1.1287 - val_accuracy: 0.6216\n",
      "\n",
      "Epoch 00013: LearningRateScheduler reducing learning rate to 0.00019371148445850088.\n",
      "Epoch 13/20\n",
      "65/65 [==============================] - 3s 53ms/step - loss: 0.1703 - accuracy: 0.9688 - val_loss: 1.1571 - val_accuracy: 0.6135\n",
      "\n",
      "Epoch 00014: LearningRateScheduler reducing learning rate to 0.00018402591023557584.\n",
      "Epoch 14/20\n",
      "65/65 [==============================] - 3s 53ms/step - loss: 0.1397 - accuracy: 0.9762 - val_loss: 1.2010 - val_accuracy: 0.6153\n",
      "\n",
      "Epoch 00015: LearningRateScheduler reducing learning rate to 0.000174824614723797.\n",
      "Epoch 15/20\n",
      "65/65 [==============================] - 3s 53ms/step - loss: 0.1146 - accuracy: 0.9846 - val_loss: 1.2206 - val_accuracy: 0.6072\n",
      "\n",
      "Epoch 00016: LearningRateScheduler reducing learning rate to 0.00016608338398760718.\n",
      "Epoch 16/20\n",
      "65/65 [==============================] - 3s 53ms/step - loss: 0.0932 - accuracy: 0.9895 - val_loss: 1.2745 - val_accuracy: 0.6108\n",
      "\n",
      "Epoch 00017: LearningRateScheduler reducing learning rate to 0.0001577792147882268.\n",
      "Epoch 17/20\n"
     ]
    },
    {
     "name": "stdout",
     "output_type": "stream",
     "text": [
      "65/65 [==============================] - 3s 52ms/step - loss: 0.0791 - accuracy: 0.9917 - val_loss: 1.3298 - val_accuracy: 0.6234\n",
      "\n",
      "Epoch 00018: LearningRateScheduler reducing learning rate to 0.00014989025404881545.\n",
      "Epoch 18/20\n",
      "65/65 [==============================] - 3s 53ms/step - loss: 0.0654 - accuracy: 0.9941 - val_loss: 1.3298 - val_accuracy: 0.6171\n",
      "\n",
      "Epoch 00019: LearningRateScheduler reducing learning rate to 0.00014239574134637466.\n",
      "Epoch 19/20\n",
      "65/65 [==============================] - 3s 53ms/step - loss: 0.0538 - accuracy: 0.9972 - val_loss: 1.3724 - val_accuracy: 0.6315\n",
      "\n",
      "Epoch 00020: LearningRateScheduler reducing learning rate to 0.00013527595427905592.\n",
      "Epoch 20/20\n",
      "65/65 [==============================] - 3s 52ms/step - loss: 0.0469 - accuracy: 0.9972 - val_loss: 1.4008 - val_accuracy: 0.6216\n",
      "\n",
      "Epoch 00001: LearningRateScheduler reducing learning rate to 0.0003584859224085419.\n",
      "Epoch 1/20\n",
      "65/65 [==============================] - 4s 67ms/step - loss: 1.3278 - accuracy: 0.4123 - val_loss: 1.1309 - val_accuracy: 0.5117\n",
      "\n",
      "Epoch 00002: LearningRateScheduler reducing learning rate to 0.0003405616262881148.\n",
      "Epoch 2/20\n",
      "65/65 [==============================] - 4s 65ms/step - loss: 1.0588 - accuracy: 0.5488 - val_loss: 1.0294 - val_accuracy: 0.5640\n",
      "\n",
      "Epoch 00003: LearningRateScheduler reducing learning rate to 0.000323533544973709.\n",
      "Epoch 3/20\n",
      "65/65 [==============================] - 4s 65ms/step - loss: 0.9516 - accuracy: 0.6052 - val_loss: 0.9910 - val_accuracy: 0.5874\n",
      "\n",
      "Epoch 00004: LearningRateScheduler reducing learning rate to 0.00030735686772502356.\n",
      "Epoch 4/20\n",
      "65/65 [==============================] - 4s 65ms/step - loss: 0.8853 - accuracy: 0.6364 - val_loss: 0.9364 - val_accuracy: 0.6135\n",
      "\n",
      "Epoch 00005: LearningRateScheduler reducing learning rate to 0.0002919890243387724.\n",
      "Epoch 5/20\n",
      "65/65 [==============================] - 4s 65ms/step - loss: 0.8264 - accuracy: 0.6599 - val_loss: 0.9084 - val_accuracy: 0.6297\n",
      "\n",
      "Epoch 00006: LearningRateScheduler reducing learning rate to 0.00027738957312183375.\n",
      "Epoch 6/20\n",
      "65/65 [==============================] - 4s 65ms/step - loss: 0.7743 - accuracy: 0.6966 - val_loss: 0.8939 - val_accuracy: 0.6234\n",
      "\n",
      "Epoch 00007: LearningRateScheduler reducing learning rate to 0.00026352009446574203.\n",
      "Epoch 7/20\n",
      "65/65 [==============================] - 4s 65ms/step - loss: 0.7253 - accuracy: 0.7145 - val_loss: 0.8653 - val_accuracy: 0.6441\n",
      "\n",
      "Epoch 00008: LearningRateScheduler reducing learning rate to 0.00025034408974245495.\n",
      "Epoch 8/20\n",
      "65/65 [==============================] - 4s 65ms/step - loss: 0.6882 - accuracy: 0.7290 - val_loss: 0.8805 - val_accuracy: 0.6315\n",
      "\n",
      "Epoch 00009: LearningRateScheduler reducing learning rate to 0.00023782688525533216.\n",
      "Epoch 9/20\n",
      "65/65 [==============================] - 4s 66ms/step - loss: 0.6523 - accuracy: 0.7660 - val_loss: 0.8746 - val_accuracy: 0.6378\n",
      "\n",
      "Epoch 00010: LearningRateScheduler reducing learning rate to 0.00022593554099256555.\n",
      "Epoch 10/20\n",
      "65/65 [==============================] - 4s 66ms/step - loss: 0.6023 - accuracy: 0.7738 - val_loss: 0.8942 - val_accuracy: 0.6441\n",
      "\n",
      "Epoch 00011: LearningRateScheduler reducing learning rate to 0.00021463876394293727.\n",
      "Epoch 11/20\n",
      "65/65 [==============================] - 4s 66ms/step - loss: 0.5461 - accuracy: 0.8086 - val_loss: 0.8725 - val_accuracy: 0.6577\n",
      "\n",
      "Epoch 00012: LearningRateScheduler reducing learning rate to 0.00020390682574579038.\n",
      "Epoch 12/20\n",
      "65/65 [==============================] - 4s 65ms/step - loss: 0.5054 - accuracy: 0.8216 - val_loss: 0.8922 - val_accuracy: 0.6396\n",
      "\n",
      "Epoch 00013: LearningRateScheduler reducing learning rate to 0.00019371148445850088.\n",
      "Epoch 13/20\n",
      "65/65 [==============================] - 4s 65ms/step - loss: 0.4647 - accuracy: 0.8426 - val_loss: 0.9449 - val_accuracy: 0.6243\n",
      "\n",
      "Epoch 00014: LearningRateScheduler reducing learning rate to 0.00018402591023557584.\n",
      "Epoch 14/20\n",
      "65/65 [==============================] - 4s 65ms/step - loss: 0.4379 - accuracy: 0.8515 - val_loss: 0.9153 - val_accuracy: 0.6432\n",
      "\n",
      "Epoch 00015: LearningRateScheduler reducing learning rate to 0.000174824614723797.\n",
      "Epoch 15/20\n",
      "65/65 [==============================] - 4s 65ms/step - loss: 0.3954 - accuracy: 0.8812 - val_loss: 0.9537 - val_accuracy: 0.6550\n",
      "\n",
      "Epoch 00016: LearningRateScheduler reducing learning rate to 0.00016608338398760718.\n",
      "Epoch 16/20\n",
      "65/65 [==============================] - 4s 65ms/step - loss: 0.3693 - accuracy: 0.8843 - val_loss: 0.9235 - val_accuracy: 0.6468\n",
      "\n",
      "Epoch 00017: LearningRateScheduler reducing learning rate to 0.0001577792147882268.\n",
      "Epoch 17/20\n",
      "65/65 [==============================] - 4s 65ms/step - loss: 0.3390 - accuracy: 0.8960 - val_loss: 0.9531 - val_accuracy: 0.6505\n",
      "\n",
      "Epoch 00018: LearningRateScheduler reducing learning rate to 0.00014989025404881545.\n",
      "Epoch 18/20\n",
      "65/65 [==============================] - 4s 65ms/step - loss: 0.3126 - accuracy: 0.9074 - val_loss: 0.9954 - val_accuracy: 0.6405\n",
      "\n",
      "Epoch 00019: LearningRateScheduler reducing learning rate to 0.00014239574134637466.\n",
      "Epoch 19/20\n",
      "65/65 [==============================] - 4s 65ms/step - loss: 0.2834 - accuracy: 0.9207 - val_loss: 0.9737 - val_accuracy: 0.6459\n",
      "\n",
      "Epoch 00020: LearningRateScheduler reducing learning rate to 0.00013527595427905592.\n",
      "Epoch 20/20\n",
      "65/65 [==============================] - 4s 65ms/step - loss: 0.2625 - accuracy: 0.9299 - val_loss: 1.0512 - val_accuracy: 0.6297\n",
      "\n",
      "Epoch 00001: LearningRateScheduler reducing learning rate to 0.0003584859224085419.\n",
      "Epoch 1/20\n",
      "65/65 [==============================] - 5s 74ms/step - loss: 1.2925 - accuracy: 0.4309 - val_loss: 1.1344 - val_accuracy: 0.5162\n",
      "\n",
      "Epoch 00002: LearningRateScheduler reducing learning rate to 0.0003405616262881148.\n",
      "Epoch 2/20\n",
      "65/65 [==============================] - 5s 74ms/step - loss: 1.1029 - accuracy: 0.5173 - val_loss: 1.0492 - val_accuracy: 0.5631\n",
      "\n",
      "Epoch 00003: LearningRateScheduler reducing learning rate to 0.000323533544973709.\n",
      "Epoch 3/20\n",
      "65/65 [==============================] - 5s 73ms/step - loss: 1.0098 - accuracy: 0.5796 - val_loss: 0.9799 - val_accuracy: 0.5856\n",
      "\n",
      "Epoch 00004: LearningRateScheduler reducing learning rate to 0.00030735686772502356.\n",
      "Epoch 4/20\n",
      "65/65 [==============================] - 5s 72ms/step - loss: 0.9369 - accuracy: 0.6086 - val_loss: 0.9675 - val_accuracy: 0.5928\n",
      "\n",
      "Epoch 00005: LearningRateScheduler reducing learning rate to 0.0002919890243387724.\n",
      "Epoch 5/20\n",
      "65/65 [==============================] - 5s 72ms/step - loss: 0.8795 - accuracy: 0.6451 - val_loss: 0.9263 - val_accuracy: 0.6063\n",
      "\n",
      "Epoch 00006: LearningRateScheduler reducing learning rate to 0.00027738957312183375.\n",
      "Epoch 6/20\n",
      "65/65 [==============================] - 5s 72ms/step - loss: 0.8261 - accuracy: 0.6620 - val_loss: 0.9290 - val_accuracy: 0.6081\n",
      "\n",
      "Epoch 00007: LearningRateScheduler reducing learning rate to 0.00026352009446574203.\n",
      "Epoch 7/20\n",
      "65/65 [==============================] - 5s 72ms/step - loss: 0.7852 - accuracy: 0.6935 - val_loss: 0.9656 - val_accuracy: 0.5946\n",
      "\n",
      "Epoch 00008: LearningRateScheduler reducing learning rate to 0.00025034408974245495.\n",
      "Epoch 8/20\n",
      "65/65 [==============================] - 5s 72ms/step - loss: 0.7209 - accuracy: 0.7157 - val_loss: 0.8631 - val_accuracy: 0.6586\n",
      "\n",
      "Epoch 00009: LearningRateScheduler reducing learning rate to 0.00023782688525533216.\n",
      "Epoch 9/20\n",
      "65/65 [==============================] - 5s 73ms/step - loss: 0.6509 - accuracy: 0.7562 - val_loss: 0.8742 - val_accuracy: 0.6396\n",
      "\n",
      "Epoch 00010: LearningRateScheduler reducing learning rate to 0.00022593554099256555.\n",
      "Epoch 10/20\n",
      "65/65 [==============================] - 5s 73ms/step - loss: 0.6234 - accuracy: 0.7645 - val_loss: 0.8969 - val_accuracy: 0.6162\n",
      "\n",
      "Epoch 00011: LearningRateScheduler reducing learning rate to 0.00021463876394293727.\n",
      "Epoch 11/20\n",
      "65/65 [==============================] - 5s 72ms/step - loss: 0.5611 - accuracy: 0.7963 - val_loss: 0.9368 - val_accuracy: 0.6297\n",
      "\n",
      "Epoch 00012: LearningRateScheduler reducing learning rate to 0.00020390682574579038.\n",
      "Epoch 12/20\n",
      "65/65 [==============================] - 5s 72ms/step - loss: 0.5108 - accuracy: 0.8247 - val_loss: 0.8612 - val_accuracy: 0.6631\n",
      "\n",
      "Epoch 00013: LearningRateScheduler reducing learning rate to 0.00019371148445850088.\n",
      "Epoch 13/20\n",
      "65/65 [==============================] - 5s 72ms/step - loss: 0.4509 - accuracy: 0.8472 - val_loss: 0.8961 - val_accuracy: 0.6541\n",
      "\n",
      "Epoch 00014: LearningRateScheduler reducing learning rate to 0.00018402591023557584.\n",
      "Epoch 14/20\n",
      "65/65 [==============================] - 5s 72ms/step - loss: 0.4061 - accuracy: 0.8667 - val_loss: 0.9253 - val_accuracy: 0.6595\n",
      "\n",
      "Epoch 00015: LearningRateScheduler reducing learning rate to 0.000174824614723797.\n",
      "Epoch 15/20\n",
      "65/65 [==============================] - 5s 73ms/step - loss: 0.3625 - accuracy: 0.8864 - val_loss: 1.0002 - val_accuracy: 0.6378\n",
      "\n",
      "Epoch 00016: LearningRateScheduler reducing learning rate to 0.00016608338398760718.\n",
      "Epoch 16/20\n",
      "65/65 [==============================] - 5s 74ms/step - loss: 0.3138 - accuracy: 0.9040 - val_loss: 1.0111 - val_accuracy: 0.6414\n",
      "\n",
      "Epoch 00017: LearningRateScheduler reducing learning rate to 0.0001577792147882268.\n",
      "Epoch 17/20\n",
      "65/65 [==============================] - 5s 74ms/step - loss: 0.2724 - accuracy: 0.9235 - val_loss: 1.0197 - val_accuracy: 0.6541\n",
      "\n",
      "Epoch 00018: LearningRateScheduler reducing learning rate to 0.00014989025404881545.\n",
      "Epoch 18/20\n",
      "65/65 [==============================] - 5s 73ms/step - loss: 0.2338 - accuracy: 0.9389 - val_loss: 1.0405 - val_accuracy: 0.6477\n",
      "\n",
      "Epoch 00019: LearningRateScheduler reducing learning rate to 0.00014239574134637466.\n",
      "Epoch 19/20\n",
      "65/65 [==============================] - 5s 69ms/step - loss: 0.2129 - accuracy: 0.9429 - val_loss: 1.0693 - val_accuracy: 0.6495\n",
      "\n",
      "Epoch 00020: LearningRateScheduler reducing learning rate to 0.00013527595427905592.\n",
      "Epoch 20/20\n",
      "65/65 [==============================] - 4s 69ms/step - loss: 0.1821 - accuracy: 0.9537 - val_loss: 1.0935 - val_accuracy: 0.6450\n"
     ]
    }
   ],
   "source": [
    "# Training 1st model\n",
    "h_1 = model_1.fit(x_train, y_train,\n",
    "                  batch_size=50,\n",
    "                  epochs=epochs, \n",
    "                  validation_data=(x_validation, y_validation),\n",
    "                  callbacks=[learning_rate],\n",
    "                  verbose=1)\n",
    "\n",
    "\n",
    "# Training 2nd model\n",
    "h_2 = model_2.fit(x_train, y_train,\n",
    "                  batch_size=50,\n",
    "                  epochs=epochs, \n",
    "                  validation_data=(x_validation, y_validation),\n",
    "                  callbacks=[learning_rate],\n",
    "                  verbose=1)\n",
    "\n",
    "\n",
    "# Training 3rd model\n",
    "h_3 = model_3.fit(x_train, y_train,\n",
    "                  batch_size=50,\n",
    "                  epochs=epochs, \n",
    "                  validation_data=(x_validation, y_validation),\n",
    "                  callbacks=[learning_rate],\n",
    "                  verbose=1)\n",
    "\n",
    "\n",
    "# Training 4th model\n",
    "h_4 = model_4.fit(x_train, y_train,\n",
    "                  batch_size=50,\n",
    "                  epochs=epochs, \n",
    "                  validation_data=(x_validation, y_validation),\n",
    "                  callbacks=[learning_rate],\n",
    "                  verbose=1)\n"
   ]
  },
  {
   "cell_type": "markdown",
   "metadata": {},
   "source": [
    "## Showing and plotting accuracies"
   ]
  },
  {
   "cell_type": "code",
   "execution_count": 14,
   "metadata": {},
   "outputs": [
    {
     "name": "stdout",
     "output_type": "stream",
     "text": [
      "Model 1: Training accuracy=0.99105, Validation accuracy=0.61261\n",
      "Model 2: Training accuracy=0.99722, Validation accuracy=0.63153\n",
      "Model 3: Training accuracy=0.92994, Validation accuracy=0.65766\n",
      "Model 4: Training accuracy=0.95370, Validation accuracy=0.66306\n"
     ]
    }
   ],
   "source": [
    "# Accuracies of the 1st model\n",
    "print('Model 1: Training accuracy={0:.5f}, Validation accuracy={1:.5f}'.\n",
    "                                                           format(max(h_1.history['accuracy']),\n",
    "                                                                  max(h_1.history['val_accuracy'])))\n",
    "\n",
    "\n",
    "# Accuracies of the 2nd model\n",
    "print('Model 2: Training accuracy={0:.5f}, Validation accuracy={1:.5f}'.\n",
    "                                                           format(max(h_2.history['accuracy']),\n",
    "                                                                  max(h_2.history['val_accuracy'])))\n",
    "\n",
    "\n",
    "# Accuracies of the 3rd model\n",
    "print('Model 3: Training accuracy={0:.5f}, Validation accuracy={1:.5f}'.\n",
    "                                                           format(max(h_3.history['accuracy']),\n",
    "                                                                  max(h_3.history['val_accuracy'])))\n",
    "\n",
    "\n",
    "# Accuracies of the 4th model\n",
    "print('Model 4: Training accuracy={0:.5f}, Validation accuracy={1:.5f}'.\n",
    "                                                          format(max(h_4.history['accuracy']),\n",
    "                                                                 max(h_4.history['val_accuracy'])))\n"
   ]
  },
  {
   "cell_type": "code",
   "execution_count": 15,
   "metadata": {
    "scrolled": false
   },
   "outputs": [
    {
     "data": {
      "image/png": "[encoded data removed]",
      "text/plain": [
       "<Figure size 864x432 with 1 Axes>"
      ]
     },
     "metadata": {
      "needs_background": "light"
     },
     "output_type": "display_data"
    }
   ],
   "source": [
    "# Magic function that renders the figure in a jupyter notebook\n",
    "%matplotlib inline\n",
    "\n",
    "\n",
    "# Setting default size of the plot\n",
    "plt.rcParams['figure.figsize'] = (12.0, 6.0)\n",
    "\n",
    "\n",
    "# Plotting accuracies for every model\n",
    "plt.plot(h_1.history['val_accuracy'], '-o')\n",
    "plt.plot(h_2.history['val_accuracy'], '-o')\n",
    "plt.plot(h_3.history['val_accuracy'], '-o')\n",
    "plt.plot(h_4.history['val_accuracy'], '-o')\n",
    "\n",
    "\n",
    "# Setting limit along Y axis\n",
    "plt.ylim(0.54, 0.7)\n",
    "\n",
    "\n",
    "# Showing legend\n",
    "plt.legend(['model_1', 'model_2', 'model_3', 'model_4'], loc='lower right', fontsize='xx-large')\n",
    "\n",
    "\n",
    "# Giving name to axes\n",
    "plt.xlabel('Epoch', fontsize=16)\n",
    "plt.ylabel('Accuracy', fontsize=16)\n",
    "\n",
    "\n",
    "# Giving name to the plot\n",
    "plt.title('Models accuracies: Custom Dataset', fontsize=16)\n",
    "\n",
    "\n",
    "# Showing the plot\n",
    "plt.show()\n"
   ]
  },
  {
   "cell_type": "code",
   "execution_count": 16,
   "metadata": {
    "scrolled": true
   },
   "outputs": [
    {
     "name": "stdout",
     "output_type": "stream",
     "text": [
      "[0.00035848594, 0.00034056162, 0.00032353355, 0.00030735688, 0.000291989, 0.00027738957, 0.0002635201, 0.00025034408, 0.00023782688, 0.00022593554, 0.00021463877, 0.00020390682, 0.00019371149, 0.0001840259, 0.00017482461, 0.00016608338, 0.00015777921, 0.00014989026, 0.00014239574, 0.00013527596]\n"
     ]
    }
   ],
   "source": [
    "# Showing list of scheduled learning rate for every epoch\n",
    "print(h_1.history['lr'])\n"
   ]
  },
  {
   "cell_type": "code",
   "execution_count": 17,
   "metadata": {},
   "outputs": [
    {
     "data": {
      "image/png": "[encoded data removed]",
      "text/plain": [
       "<Figure size 432x288 with 1 Axes>"
      ]
     },
     "metadata": {
      "needs_background": "light"
     },
     "output_type": "display_data"
    }
   ],
   "source": [
    "# Magic function that renders the figure in a jupyter notebook\n",
    "%matplotlib inline\n",
    "\n",
    "\n",
    "# Plotting scheduled learning rate\n",
    "plt.plot(h_1.history['lr'], '-mo')\n",
    "\n",
    "\n",
    "# Showing the plot\n",
    "plt.show()\n"
   ]
  },
  {
   "cell_type": "markdown",
   "metadata": {},
   "source": [
    "## Conclusion"
   ]
  },
  {
   "cell_type": "code",
   "execution_count": 18,
   "metadata": {},
   "outputs": [],
   "source": [
    "# According to validation accuracy, the 4th model has the highest value\n",
    "\n",
    "# RGB input --> {8C5-P2} --> {16C5-P2} --> {32C5-P2} --> {64C5-P2} --> 128 --> 5\n",
    "# GRAY input --> {8C5-P2} --> {16C5-P2} --> {32C5-P2} --> {64C5-P2} --> 128 --> 5\n",
    "\n",
    "# RGB input: (64, 64, 3)\n",
    "# GRAY input: (64, 64, 1)\n"
   ]
  },
  {
   "cell_type": "code",
   "execution_count": null,
   "metadata": {},
   "outputs": [],
   "source": []
  }
 ],
 "metadata": {
  "kernelspec": {
   "display_name": "Python 3",
   "language": "python",
   "name": "python3"
  },
  "language_info": {
   "codemirror_mode": {
    "name": "ipython",
    "version": 3
   },
   "file_extension": ".py",
   "mimetype": "text/x-python",
   "name": "python",
   "nbconvert_exporter": "python",
   "pygments_lexer": "ipython3",
   "version": "3.7.9"
  }
 },
 "nbformat": 4,
 "nbformat_minor": 2
}
